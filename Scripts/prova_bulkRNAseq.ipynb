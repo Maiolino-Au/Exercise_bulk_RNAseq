{
 "cells": [
  {
   "cell_type": "code",
   "execution_count": 2,
   "id": "379ac3f4-bc06-41fc-b10e-76f7f283eb86",
   "metadata": {},
   "outputs": [],
   "source": [
    "setwd(\"/sharedFolder\")"
   ]
  },
  {
   "cell_type": "code",
   "execution_count": 16,
   "id": "c71334cf-7e03-4d9e-a6a3-0fd23a177cf7",
   "metadata": {},
   "outputs": [],
   "source": [
    "require(DESeq2)\n",
    "require(ggplot2)"
   ]
  },
  {
   "cell_type": "code",
   "execution_count": 19,
   "id": "52ea31df-51a0-46e4-891f-a1acbb50eed7",
   "metadata": {},
   "outputs": [],
   "source": [
    "name_new_dir_results <- paste(getwd(), \"/Results\", sep = \"\")\n",
    "if (!dir.exists(name_new_dir_results)) {\n",
    "    dir.create(name_new_dir_results)\n",
    "}\n",
    "\n",
    "name_new_dir_partial <- paste(getwd(), \"/Partial\", sep = \"\")\n",
    "if (!dir.exists(name_new_dir_partial)) {\n",
    "    dir.create(name_new_dir_partial)\n",
    "}"
   ]
  },
  {
   "cell_type": "code",
   "execution_count": 20,
   "id": "330fb024-c312-4096-8464-373bcf7ded47",
   "metadata": {},
   "outputs": [
    {
     "data": {
      "text/html": [
       "<table class=\"dataframe\">\n",
       "<caption>A data.frame: 6 × 8</caption>\n",
       "<thead>\n",
       "\t<tr><th></th><th scope=col>E14.5_R1</th><th scope=col>E14.5_R2</th><th scope=col>Neonatal_R1</th><th scope=col>Neonatal_R2</th><th scope=col>Adult_R1</th><th scope=col>Adult_R2</th><th scope=col>TAC_R1</th><th scope=col>TAC_R2</th></tr>\n",
       "\t<tr><th></th><th scope=col>&lt;int&gt;</th><th scope=col>&lt;int&gt;</th><th scope=col>&lt;int&gt;</th><th scope=col>&lt;int&gt;</th><th scope=col>&lt;int&gt;</th><th scope=col>&lt;int&gt;</th><th scope=col>&lt;int&gt;</th><th scope=col>&lt;int&gt;</th></tr>\n",
       "</thead>\n",
       "<tbody>\n",
       "\t<tr><th scope=row>Xkr4</th><td>229</td><td>363</td><td>545</td><td>417</td><td>133</td><td> 96</td><td>280</td><td>219</td></tr>\n",
       "\t<tr><th scope=row>Gm1992</th><td>  0</td><td>  3</td><td>  0</td><td>  0</td><td>  0</td><td>  0</td><td>  1</td><td>  0</td></tr>\n",
       "\t<tr><th scope=row>Rp1</th><td>  3</td><td>  5</td><td>  4</td><td> 26</td><td> 48</td><td> 73</td><td>  7</td><td> 10</td></tr>\n",
       "\t<tr><th scope=row>Sox17</th><td>206</td><td>195</td><td>285</td><td>226</td><td> 51</td><td> 44</td><td> 53</td><td> 57</td></tr>\n",
       "\t<tr><th scope=row>AC129937.1</th><td>  0</td><td>  3</td><td>  0</td><td>  2</td><td>  0</td><td>  0</td><td>  0</td><td>  0</td></tr>\n",
       "\t<tr><th scope=row>Mrpl15</th><td>597</td><td>599</td><td>468</td><td>480</td><td>318</td><td>316</td><td>389</td><td>347</td></tr>\n",
       "</tbody>\n",
       "</table>\n"
      ],
      "text/latex": [
       "A data.frame: 6 × 8\n",
       "\\begin{tabular}{r|llllllll}\n",
       "  & E14.5\\_R1 & E14.5\\_R2 & Neonatal\\_R1 & Neonatal\\_R2 & Adult\\_R1 & Adult\\_R2 & TAC\\_R1 & TAC\\_R2\\\\\n",
       "  & <int> & <int> & <int> & <int> & <int> & <int> & <int> & <int>\\\\\n",
       "\\hline\n",
       "\tXkr4 & 229 & 363 & 545 & 417 & 133 &  96 & 280 & 219\\\\\n",
       "\tGm1992 &   0 &   3 &   0 &   0 &   0 &   0 &   1 &   0\\\\\n",
       "\tRp1 &   3 &   5 &   4 &  26 &  48 &  73 &   7 &  10\\\\\n",
       "\tSox17 & 206 & 195 & 285 & 226 &  51 &  44 &  53 &  57\\\\\n",
       "\tAC129937.1 &   0 &   3 &   0 &   2 &   0 &   0 &   0 &   0\\\\\n",
       "\tMrpl15 & 597 & 599 & 468 & 480 & 318 & 316 & 389 & 347\\\\\n",
       "\\end{tabular}\n"
      ],
      "text/markdown": [
       "\n",
       "A data.frame: 6 × 8\n",
       "\n",
       "| <!--/--> | E14.5_R1 &lt;int&gt; | E14.5_R2 &lt;int&gt; | Neonatal_R1 &lt;int&gt; | Neonatal_R2 &lt;int&gt; | Adult_R1 &lt;int&gt; | Adult_R2 &lt;int&gt; | TAC_R1 &lt;int&gt; | TAC_R2 &lt;int&gt; |\n",
       "|---|---|---|---|---|---|---|---|---|\n",
       "| Xkr4 | 229 | 363 | 545 | 417 | 133 |  96 | 280 | 219 |\n",
       "| Gm1992 |   0 |   3 |   0 |   0 |   0 |   0 |   1 |   0 |\n",
       "| Rp1 |   3 |   5 |   4 |  26 |  48 |  73 |   7 |  10 |\n",
       "| Sox17 | 206 | 195 | 285 | 226 |  51 |  44 |  53 |  57 |\n",
       "| AC129937.1 |   0 |   3 |   0 |   2 |   0 |   0 |   0 |   0 |\n",
       "| Mrpl15 | 597 | 599 | 468 | 480 | 318 | 316 | 389 | 347 |\n",
       "\n"
      ],
      "text/plain": [
       "           E14.5_R1 E14.5_R2 Neonatal_R1 Neonatal_R2 Adult_R1 Adult_R2 TAC_R1\n",
       "Xkr4       229      363      545         417         133       96      280   \n",
       "Gm1992       0        3        0           0           0        0        1   \n",
       "Rp1          3        5        4          26          48       73        7   \n",
       "Sox17      206      195      285         226          51       44       53   \n",
       "AC129937.1   0        3        0           2           0        0        0   \n",
       "Mrpl15     597      599      468         480         318      316      389   \n",
       "           TAC_R2\n",
       "Xkr4       219   \n",
       "Gm1992       0   \n",
       "Rp1         10   \n",
       "Sox17       57   \n",
       "AC129937.1   0   \n",
       "Mrpl15     347   "
      ]
     },
     "metadata": {},
     "output_type": "display_data"
    },
    {
     "data": {
      "text/html": [
       "<style>\n",
       ".list-inline {list-style: none; margin:0; padding: 0}\n",
       ".list-inline>li {display: inline-block}\n",
       ".list-inline>li:not(:last-child)::after {content: \"\\00b7\"; padding: 0 .5ex}\n",
       "</style>\n",
       "<ol class=list-inline><li>27195</li><li>8</li></ol>\n"
      ],
      "text/latex": [
       "\\begin{enumerate*}\n",
       "\\item 27195\n",
       "\\item 8\n",
       "\\end{enumerate*}\n"
      ],
      "text/markdown": [
       "1. 27195\n",
       "2. 8\n",
       "\n",
       "\n"
      ],
      "text/plain": [
       "[1] 27195     8"
      ]
     },
     "metadata": {},
     "output_type": "display_data"
    }
   ],
   "source": [
    "# Import the data\n",
    "# row.names=1 specifies that the first column refers to the name of the genes\n",
    "just.raw.counts = read.delim(\"Data/Raw_counts_input.txt\", row.names=1)  \n",
    "head(just.raw.counts)\n",
    "dim(just.raw.counts)\n",
    "\n",
    "# Import metadata\n",
    "meta.data <- read.delim(\"Data/meta_data.txt\", row.names=1) "
   ]
  },
  {
   "cell_type": "code",
   "execution_count": 21,
   "id": "795dd984-5384-4719-b5cf-b173edd2f55a",
   "metadata": {},
   "outputs": [
    {
     "name": "stderr",
     "output_type": "stream",
     "text": [
      "Warning message in DESeqDataSet(se, design = design, ignoreRank):\n",
      "“some variables in design formula are characters, converting to factors”\n"
     ]
    }
   ],
   "source": [
    "count.data.set <- DESeqDataSetFromMatrix(countData=just.raw.counts, \n",
    "                                         colData=meta.data, design= ~ condition) "
   ]
  },
  {
   "cell_type": "code",
   "execution_count": 22,
   "id": "9f5f11c4-9705-45b8-a5c1-796f8e58e248",
   "metadata": {},
   "outputs": [
    {
     "name": "stderr",
     "output_type": "stream",
     "text": [
      "estimating size factors\n",
      "\n",
      "estimating dispersions\n",
      "\n",
      "gene-wise dispersion estimates\n",
      "\n",
      "mean-dispersion relationship\n",
      "\n",
      "final dispersion estimates\n",
      "\n",
      "fitting model and testing\n",
      "\n"
     ]
    }
   ],
   "source": [
    "# Create DEseq object\n",
    "count.data.set.object <- DESeq(count.data.set)"
   ]
  },
  {
   "cell_type": "code",
   "execution_count": 23,
   "id": "74c5e0db-55bf-45f2-97e2-c70565bc39a9",
   "metadata": {},
   "outputs": [
    {
     "data": {
      "text/html": [
       "<table class=\"dataframe\">\n",
       "<caption>A matrix: 6 × 8 of type dbl</caption>\n",
       "<thead>\n",
       "\t<tr><th></th><th scope=col>E14.5_R1</th><th scope=col>E14.5_R2</th><th scope=col>Neonatal_R1</th><th scope=col>Neonatal_R2</th><th scope=col>Adult_R1</th><th scope=col>Adult_R2</th><th scope=col>TAC_R1</th><th scope=col>TAC_R2</th></tr>\n",
       "</thead>\n",
       "<tbody>\n",
       "\t<tr><th scope=row>Xkr4</th><td>7.677109</td><td>8.137802</td><td>8.915350</td><td>8.566363</td><td>7.849458</td><td>7.509247</td><td>8.505594</td><td>8.236562</td></tr>\n",
       "\t<tr><th scope=row>Gm1992</th><td>4.330501</td><td>4.784299</td><td>4.330501</td><td>4.330501</td><td>4.330501</td><td>4.330501</td><td>4.675836</td><td>4.330501</td></tr>\n",
       "\t<tr><th scope=row>Rp1</th><td>4.803272</td><td>4.914769</td><td>4.906902</td><td>5.752897</td><td>6.724628</td><td>7.200788</td><td>5.231634</td><td>5.418549</td></tr>\n",
       "\t<tr><th scope=row>Sox17</th><td>7.552842</td><td>7.394836</td><td>8.080148</td><td>7.798572</td><td>6.784615</td><td>6.677513</td><td>6.606959</td><td>6.710847</td></tr>\n",
       "\t<tr><th scope=row>AC129937.1</th><td>4.330501</td><td>4.784299</td><td>4.330501</td><td>4.739802</td><td>4.330501</td><td>4.330501</td><td>4.330501</td><td>4.330501</td></tr>\n",
       "\t<tr><th scope=row>Mrpl15</th><td>8.886284</td><td>8.781576</td><td>8.714413</td><td>8.750078</td><td>8.962472</td><td>9.005624</td><td>8.936597</td><td>8.831688</td></tr>\n",
       "</tbody>\n",
       "</table>\n"
      ],
      "text/latex": [
       "A matrix: 6 × 8 of type dbl\n",
       "\\begin{tabular}{r|llllllll}\n",
       "  & E14.5\\_R1 & E14.5\\_R2 & Neonatal\\_R1 & Neonatal\\_R2 & Adult\\_R1 & Adult\\_R2 & TAC\\_R1 & TAC\\_R2\\\\\n",
       "\\hline\n",
       "\tXkr4 & 7.677109 & 8.137802 & 8.915350 & 8.566363 & 7.849458 & 7.509247 & 8.505594 & 8.236562\\\\\n",
       "\tGm1992 & 4.330501 & 4.784299 & 4.330501 & 4.330501 & 4.330501 & 4.330501 & 4.675836 & 4.330501\\\\\n",
       "\tRp1 & 4.803272 & 4.914769 & 4.906902 & 5.752897 & 6.724628 & 7.200788 & 5.231634 & 5.418549\\\\\n",
       "\tSox17 & 7.552842 & 7.394836 & 8.080148 & 7.798572 & 6.784615 & 6.677513 & 6.606959 & 6.710847\\\\\n",
       "\tAC129937.1 & 4.330501 & 4.784299 & 4.330501 & 4.739802 & 4.330501 & 4.330501 & 4.330501 & 4.330501\\\\\n",
       "\tMrpl15 & 8.886284 & 8.781576 & 8.714413 & 8.750078 & 8.962472 & 9.005624 & 8.936597 & 8.831688\\\\\n",
       "\\end{tabular}\n"
      ],
      "text/markdown": [
       "\n",
       "A matrix: 6 × 8 of type dbl\n",
       "\n",
       "| <!--/--> | E14.5_R1 | E14.5_R2 | Neonatal_R1 | Neonatal_R2 | Adult_R1 | Adult_R2 | TAC_R1 | TAC_R2 |\n",
       "|---|---|---|---|---|---|---|---|---|\n",
       "| Xkr4 | 7.677109 | 8.137802 | 8.915350 | 8.566363 | 7.849458 | 7.509247 | 8.505594 | 8.236562 |\n",
       "| Gm1992 | 4.330501 | 4.784299 | 4.330501 | 4.330501 | 4.330501 | 4.330501 | 4.675836 | 4.330501 |\n",
       "| Rp1 | 4.803272 | 4.914769 | 4.906902 | 5.752897 | 6.724628 | 7.200788 | 5.231634 | 5.418549 |\n",
       "| Sox17 | 7.552842 | 7.394836 | 8.080148 | 7.798572 | 6.784615 | 6.677513 | 6.606959 | 6.710847 |\n",
       "| AC129937.1 | 4.330501 | 4.784299 | 4.330501 | 4.739802 | 4.330501 | 4.330501 | 4.330501 | 4.330501 |\n",
       "| Mrpl15 | 8.886284 | 8.781576 | 8.714413 | 8.750078 | 8.962472 | 9.005624 | 8.936597 | 8.831688 |\n",
       "\n"
      ],
      "text/plain": [
       "           E14.5_R1 E14.5_R2 Neonatal_R1 Neonatal_R2 Adult_R1 Adult_R2 TAC_R1  \n",
       "Xkr4       7.677109 8.137802 8.915350    8.566363    7.849458 7.509247 8.505594\n",
       "Gm1992     4.330501 4.784299 4.330501    4.330501    4.330501 4.330501 4.675836\n",
       "Rp1        4.803272 4.914769 4.906902    5.752897    6.724628 7.200788 5.231634\n",
       "Sox17      7.552842 7.394836 8.080148    7.798572    6.784615 6.677513 6.606959\n",
       "AC129937.1 4.330501 4.784299 4.330501    4.739802    4.330501 4.330501 4.330501\n",
       "Mrpl15     8.886284 8.781576 8.714413    8.750078    8.962472 9.005624 8.936597\n",
       "           TAC_R2  \n",
       "Xkr4       8.236562\n",
       "Gm1992     4.330501\n",
       "Rp1        5.418549\n",
       "Sox17      6.710847\n",
       "AC129937.1 4.330501\n",
       "Mrpl15     8.831688"
      ]
     },
     "metadata": {},
     "output_type": "display_data"
    }
   ],
   "source": [
    "# Normalize with Variance Stabilizing Transformation\n",
    "# rlog() could also be used\n",
    "vsd <- vst(count.data.set.object)\n",
    "\n",
    "norm.data = assay(vsd)\n",
    "head(norm.data)"
   ]
  },
  {
   "cell_type": "code",
   "execution_count": 24,
   "id": "aad33cdb-617a-4941-bb03-713712fdf5c6",
   "metadata": {},
   "outputs": [],
   "source": [
    "# Create a file with a table of the normalized data\n",
    "write.table(norm.data, \n",
    "            sep = \"\\t\", \n",
    "            file = paste0(name_new_dir_partial, \n",
    "                          \"/Norm_data_all_genes_NO_counts_cut_off.tsv\"), \n",
    "            row.names = TRUE, \n",
    "            col.names = NA, \n",
    "            quote = FALSE)"
   ]
  },
  {
   "cell_type": "code",
   "execution_count": 25,
   "id": "99bdfd77-5498-4c53-b8bf-afe0fbe4c858",
   "metadata": {},
   "outputs": [],
   "source": [
    "# HIERARCHICAL CLUSTERING\n",
    "\n",
    "# Calculate euclidean distances\n",
    "# \"t\" is transponse: it reverses row and colums in the table\n",
    "sampleDists <- dist(t(norm.data),  method = \"euclidean\")"
   ]
  },
  {
   "cell_type": "code",
   "execution_count": 26,
   "id": "1210690b-a364-422a-8e7c-fed43c2be1fd",
   "metadata": {},
   "outputs": [],
   "source": [
    "reversed_rows_columns = (t(norm.data))"
   ]
  },
  {
   "cell_type": "code",
   "execution_count": 27,
   "id": "8978f1b2-9dd3-4838-899f-e2bc32cfc599",
   "metadata": {},
   "outputs": [
    {
     "name": "stdout",
     "output_type": "stream",
     "text": [
      "[1] \"clusters\"\n"
     ]
    },
    {
     "data": {
      "image/png": "[encoded data removed]",
      "text/plain": [
       "Plot with title “Cluster Dendrogram”"
      ]
     },
     "metadata": {
      "image/png": {
       "height": 420,
       "width": 420
      }
     },
     "output_type": "display_data"
    }
   ],
   "source": [
    "clusters=hclust(sampleDists)\n",
    "plot(clusters)\n",
    "print(\"clusters\")"
   ]
  },
  {
   "cell_type": "code",
   "execution_count": 29,
   "id": "a92d9e9f-6e4c-44f9-bd68-ebf61721a821",
   "metadata": {},
   "outputs": [
    {
     "name": "stderr",
     "output_type": "stream",
     "text": [
      "using ntop=500 top features by variance\n",
      "\n"
     ]
    },
    {
     "data": {
      "image/png": "[encoded data removed]",
      "text/plain": [
       "plot without title"
      ]
     },
     "metadata": {
      "image/png": {
       "height": 420,
       "width": 420
      }
     },
     "output_type": "display_data"
    }
   ],
   "source": [
    "# PCA\n",
    "# We have to specify that the column \"condition\" from the metadata has to be taken as a information for replicates grouping\n",
    "# plotPCA(vsd, intgroup=c(\"condition\")) \n",
    "\n",
    "# PCA plot but with the groups organized by increasing developmental stage\n",
    "plotPCA(vsd, intgroup=c(\"condition\")) +\n",
    "  scale_colour_hue(breaks = c(\"E14.5\",\"E14.5\",\"Neonatal\",\"Neonatal\",\"Adult\",\"Adult\",\"TAC\",\"TAC\"))"
   ]
  },
  {
   "cell_type": "code",
   "execution_count": 30,
   "id": "13152d03-717c-470a-8cc4-739fe4f423e2",
   "metadata": {},
   "outputs": [
    {
     "name": "stdout",
     "output_type": "stream",
     "text": [
      "[1] \"pca\"\n"
     ]
    }
   ],
   "source": [
    "print(\"pca\")"
   ]
  },
  {
   "cell_type": "code",
   "execution_count": null,
   "id": "5a3980f7-3f9c-4fdf-afae-9f40eaca5f76",
   "metadata": {},
   "outputs": [],
   "source": []
  }
 ],
 "metadata": {
  "kernelspec": {
   "display_name": "R",
   "language": "R",
   "name": "ir"
  },
  "language_info": {
   "codemirror_mode": "r",
   "file_extension": ".r",
   "mimetype": "text/x-r-source",
   "name": "R",
   "pygments_lexer": "r",
   "version": "4.4.1"
  }
 },
 "nbformat": 4,
 "nbformat_minor": 5
}
